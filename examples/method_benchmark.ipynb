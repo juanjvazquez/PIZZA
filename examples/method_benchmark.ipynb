{
 "cells": [
  {
   "cell_type": "code",
   "execution_count": 1,
   "metadata": {},
   "outputs": [
    {
     "name": "stderr",
     "output_type": "stream",
     "text": [
      "/Users/jessicacooper/PIZZA/venv/lib/python3.12/site-packages/tqdm/auto.py:21: TqdmWarning: IProgress not found. Please update jupyter and ipywidgets. See https://ipywidgets.readthedocs.io/en/stable/user_install.html\n",
      "  from .autonotebook import tqdm as notebook_tqdm\n",
      "/Users/jessicacooper/PIZZA/venv/lib/python3.12/site-packages/huggingface_hub/file_download.py:1132: FutureWarning: `resume_download` is deprecated and will be removed in version 1.0.0. Downloads always resume when possible. If you want to force a new download, use `force_download=True`.\n",
      "  warnings.warn(\n"
     ]
    }
   ],
   "source": [
    "from attribution.api_attribution import OpenAIAttributor\n",
    "from attribution.experiment_logger import ExperimentLogger\n",
    "from attribution.token_perturbation import FixedPerturbationStrategy, NthNearestPerturbationStrategy\n",
    "import pandas as pd\n",
    "# Re-import modified modules without restarting the server (for dev use)\n",
    "%load_ext autoreload\n",
    "%autoreload 2\n",
    "\n",
    "import os\n",
    "\n",
    "from dotenv import load_dotenv\n",
    "\n",
    "# Checks if you're using a .env file, and loads it if so.\n",
    "if os.path.isfile(\".env\"):\n",
    "    load_dotenv()\n",
    "\n",
    "import warnings\n",
    "\n",
    "# Suppress annoying FutureWarning from huggingface_hub that is not our fault\n",
    "warnings.filterwarnings(\"ignore\", category=FutureWarning, module=\"huggingface_hub\")\n"
   ]
  },
  {
   "cell_type": "code",
   "execution_count": 2,
   "metadata": {},
   "outputs": [],
   "source": [
    "gpt4_attributor = OpenAIAttributor(\n",
    "    openai_api_key=os.getenv(\"OPENAI_API_KEY\"),\n",
    "    max_concurrent_requests=5,\n",
    "    openai_model=\"gpt-4o-mini\",\n",
    ")\n"
   ]
  },
  {
   "cell_type": "code",
   "execution_count": 40,
   "metadata": {},
   "outputs": [],
   "source": [
    "\n",
    "samples = [\n",
    "    {\"prompt\": \"The clock shows 9:47. How many minutes until 11?\", \"key_strs\":[\"9:47\",\"11\"], \"answer\":\"73\"},\n",
    "    # {\"prompt\": \"Maria is 37 years old today. How many years till she's 50?\", \"key_strs\":[\"37\",\"50\"], \"answer\":\"13\"},\n",
    "    # {\"prompt\": \"John has 83 books on his shelf. If he buys 17 more books, how many will he have in total?\", \"key_strs\":[\"83\",\"17\"], \"answer\":\"100\"},\n",
    "    # {\"prompt\": \"What is the capital of Japan?\", \"key_strs\": [\"capital\", \"Japan\"], \"answer\":\"Tokyo\"},\n",
    "    # {\"prompt\": \"In which continent is Johannesburg?\", \"key_strs\": [\"Johannesburg\", \"continent\"], \"answer\":\"Africa\"},\n",
    "    # {\"prompt\": \"Which element has the symbol O?\", \"key_strs\": [\"element\", \"O\"], \"answer\":\"Oxygen\"},\n",
    "    # {\"prompt\": \"What is the largest bird?\", \"key_strs\": [\"largest\", \"bird\"], \"answer\":\"Ostritch\"},\n",
    "    # {\"prompt\": \"What is the smallest prime number?\", \"key_strs\": [\"smallest\", \"prime\"], \"answer\":\"2\"},\n",
    "    # {\"prompt\": \"What colour does mixing red and blue create?\", \"key_strs\":[\"red\", \"blue\"], \"answer\":\"purple\"},\n",
    "    # {\"prompt\": \"What is frozen water called?\", \"key_strs\":[\"frozen\", \"water\"], \"answer\":\"ice\"},\n",
    "    ]\n",
    "\n",
    "brevity_prompt = \" Answer in one word.\""
   ]
  },
  {
   "cell_type": "code",
   "execution_count": 42,
   "metadata": {},
   "outputs": [
    {
     "name": "stderr",
     "output_type": "stream",
     "text": [
      "Sending 5 concurrent requests at a time: 100%|██████████| 3/3 [00:01<00:00,  2.80it/s]\n"
     ]
    },
    {
     "data": {
      "text/html": [
       "<div style=\"font-family: monospace; line-height: 1.5;\"><span style=\"text-decoration: underline; text-decoration-color: #fdfdff; text-decoration-thickness: 4px; text-underline-offset: 3px;\">The</span><span style=\"text-decoration: underline; text-decoration-color: #fdfdff; text-decoration-thickness: 4px; text-underline-offset: 3px;\"> clock</span><span style=\"text-decoration: underline; text-decoration-color: #fdfdff; text-decoration-thickness: 4px; text-underline-offset: 3px;\"> shows</span><span style=\"text-decoration: underline; text-decoration-color: #800000; text-decoration-thickness: 4px; text-underline-offset: 3px;\"> 9:47.</span><span style=\"text-decoration: underline; text-decoration-color: #fdfdff; text-decoration-thickness: 4px; text-underline-offset: 3px;\"> How</span><span style=\"text-decoration: underline; text-decoration-color: #ff1d1d; text-decoration-thickness: 4px; text-underline-offset: 3px;\"> many</span><span style=\"text-decoration: underline; text-decoration-color: #820000; text-decoration-thickness: 4px; text-underline-offset: 3px;\"> minutes</span><span style=\"text-decoration: underline; text-decoration-color: #800000; text-decoration-thickness: 4px; text-underline-offset: 3px;\"> until</span><span style=\"text-decoration: underline; text-decoration-color: #a60000; text-decoration-thickness: 4px; text-underline-offset: 3px;\"> 11?</span><span style=\"text-decoration: underline; text-decoration-color: #fffdfd; text-decoration-thickness: 4px; text-underline-offset: 3px;\"> Answer</span><span style=\"text-decoration: underline; text-decoration-color: #fdfdff; text-decoration-thickness: 4px; text-underline-offset: 3px;\"> in</span><span style=\"text-decoration: underline; text-decoration-color: #800000; text-decoration-thickness: 4px; text-underline-offset: 3px;\"> one</span><span style=\"text-decoration: underline; text-decoration-color: #fdfdff; text-decoration-thickness: 4px; text-underline-offset: 3px;\"> word.</span> -> 73</div>"
      ],
      "text/plain": [
       "<IPython.core.display.HTML object>"
      ]
     },
     "metadata": {},
     "output_type": "display_data"
    },
    {
     "name": "stdout",
     "output_type": "stream",
     "text": [
      "{'prompt': 'The clock shows 9:47. How many minutes until 11?', 'key_strs': ['9:47', '11'], 'answer': '73', 'algorithm': 'iterative', 'attr_method': 'prob_diff', 'perturb_method': 'fixed', 'api_calls': 14, 'duration': 1.1010041236877441, 'mean_attr': 0.4050741902848444, 'mean_key_attr': 0.9220638977843478, 'correct': True}\n"
     ]
    },
    {
     "name": "stderr",
     "output_type": "stream",
     "text": [
      "Sending 5 concurrent requests at a time: 100%|██████████| 3/3 [00:00<00:00,  3.10it/s]\n"
     ]
    },
    {
     "data": {
      "text/html": [
       "<div style=\"font-family: monospace; line-height: 1.5;\"><span style=\"text-decoration: underline; text-decoration-color: #fffdfd; text-decoration-thickness: 4px; text-underline-offset: 3px;\">The</span><span style=\"text-decoration: underline; text-decoration-color: #fffdfd; text-decoration-thickness: 4px; text-underline-offset: 3px;\"> clock</span><span style=\"text-decoration: underline; text-decoration-color: #fdfdff; text-decoration-thickness: 4px; text-underline-offset: 3px;\"> shows</span><span style=\"text-decoration: underline; text-decoration-color: #800000; text-decoration-thickness: 4px; text-underline-offset: 3px;\"> 9:47.</span><span style=\"text-decoration: underline; text-decoration-color: #fffdfd; text-decoration-thickness: 4px; text-underline-offset: 3px;\"> How</span><span style=\"text-decoration: underline; text-decoration-color: #ff0d0d; text-decoration-thickness: 4px; text-underline-offset: 3px;\"> many</span><span style=\"text-decoration: underline; text-decoration-color: #800000; text-decoration-thickness: 4px; text-underline-offset: 3px;\"> minutes</span><span style=\"text-decoration: underline; text-decoration-color: #fffdfd; text-decoration-thickness: 4px; text-underline-offset: 3px;\"> until</span><span style=\"text-decoration: underline; text-decoration-color: #800000; text-decoration-thickness: 4px; text-underline-offset: 3px;\"> 11?</span><span style=\"text-decoration: underline; text-decoration-color: #fffdfd; text-decoration-thickness: 4px; text-underline-offset: 3px;\"> Answer</span><span style=\"text-decoration: underline; text-decoration-color: #fffdfd; text-decoration-thickness: 4px; text-underline-offset: 3px;\"> in</span><span style=\"text-decoration: underline; text-decoration-color: #fffdfd; text-decoration-thickness: 4px; text-underline-offset: 3px;\"> one</span><span style=\"text-decoration: underline; text-decoration-color: #fffdfd; text-decoration-thickness: 4px; text-underline-offset: 3px;\"> word.</span> -> 73</div>"
      ],
      "text/plain": [
       "<IPython.core.display.HTML object>"
      ]
     },
     "metadata": {},
     "output_type": "display_data"
    },
    {
     "name": "stdout",
     "output_type": "stream",
     "text": [
      "{'prompt': 'The clock shows 9:47. How many minutes until 11?', 'key_strs': ['9:47', '11'], 'answer': '73', 'algorithm': 'iterative', 'attr_method': 'prob_diff', 'perturb_method': 'nth_nearest', 'api_calls': 14, 'duration': 4.032686948776245, 'mean_attr': 0.26716872286488286, 'mean_key_attr': 0.9996987836547553, 'correct': True}\n"
     ]
    },
    {
     "name": "stderr",
     "output_type": "stream",
     "text": [
      "Sending 5 concurrent requests at a time: 100%|██████████| 3/3 [00:01<00:00,  2.47it/s]\n"
     ]
    },
    {
     "data": {
      "text/html": [
       "<div style=\"font-family: monospace; line-height: 1.5;\"><span style=\"text-decoration: underline; text-decoration-color: #fffdfd; text-decoration-thickness: 4px; text-underline-offset: 3px;\">The</span><span style=\"text-decoration: underline; text-decoration-color: #fffdfd; text-decoration-thickness: 4px; text-underline-offset: 3px;\"> clock</span><span style=\"text-decoration: underline; text-decoration-color: #fffdfd; text-decoration-thickness: 4px; text-underline-offset: 3px;\"> shows</span><span style=\"text-decoration: underline; text-decoration-color: #de0000; text-decoration-thickness: 4px; text-underline-offset: 3px;\"> 9:47.</span><span style=\"text-decoration: underline; text-decoration-color: #fffdfd; text-decoration-thickness: 4px; text-underline-offset: 3px;\"> How</span><span style=\"text-decoration: underline; text-decoration-color: #fffdfd; text-decoration-thickness: 4px; text-underline-offset: 3px;\"> many</span><span style=\"text-decoration: underline; text-decoration-color: #ea0000; text-decoration-thickness: 4px; text-underline-offset: 3px;\"> minutes</span><span style=\"text-decoration: underline; text-decoration-color: #dc0000; text-decoration-thickness: 4px; text-underline-offset: 3px;\"> until</span><span style=\"text-decoration: underline; text-decoration-color: #dc0000; text-decoration-thickness: 4px; text-underline-offset: 3px;\"> 11?</span><span style=\"text-decoration: underline; text-decoration-color: #fffdfd; text-decoration-thickness: 4px; text-underline-offset: 3px;\"> Answer</span><span style=\"text-decoration: underline; text-decoration-color: #fffdfd; text-decoration-thickness: 4px; text-underline-offset: 3px;\"> in</span><span style=\"text-decoration: underline; text-decoration-color: #ec0000; text-decoration-thickness: 4px; text-underline-offset: 3px;\"> one</span><span style=\"text-decoration: underline; text-decoration-color: #ff6565; text-decoration-thickness: 4px; text-underline-offset: 3px;\"> word.</span> -> 73</div>"
      ],
      "text/plain": [
       "<IPython.core.display.HTML object>"
      ]
     },
     "metadata": {},
     "output_type": "display_data"
    },
    {
     "name": "stdout",
     "output_type": "stream",
     "text": [
      "{'prompt': 'The clock shows 9:47. How many minutes until 11?', 'key_strs': ['9:47', '11'], 'answer': '73', 'algorithm': 'iterative', 'attr_method': 'cosine', 'perturb_method': 'fixed', 'api_calls': 14, 'duration': 1.2648849487304688, 'mean_attr': 0.258263872219966, 'mean_key_attr': 0.6294264793395996, 'correct': True}\n"
     ]
    },
    {
     "name": "stderr",
     "output_type": "stream",
     "text": [
      "Sending 5 concurrent requests at a time: 100%|██████████| 3/3 [00:01<00:00,  2.76it/s]\n"
     ]
    },
    {
     "data": {
      "text/html": [
       "<div style=\"font-family: monospace; line-height: 1.5;\"><span style=\"text-decoration: underline; text-decoration-color: #fffdfd; text-decoration-thickness: 4px; text-underline-offset: 3px;\">The</span><span style=\"text-decoration: underline; text-decoration-color: #fffdfd; text-decoration-thickness: 4px; text-underline-offset: 3px;\"> clock</span><span style=\"text-decoration: underline; text-decoration-color: #fffdfd; text-decoration-thickness: 4px; text-underline-offset: 3px;\"> shows</span><span style=\"text-decoration: underline; text-decoration-color: #ff0505; text-decoration-thickness: 4px; text-underline-offset: 3px;\"> 9:47.</span><span style=\"text-decoration: underline; text-decoration-color: #fffdfd; text-decoration-thickness: 4px; text-underline-offset: 3px;\"> How</span><span style=\"text-decoration: underline; text-decoration-color: #fffdfd; text-decoration-thickness: 4px; text-underline-offset: 3px;\"> many</span><span style=\"text-decoration: underline; text-decoration-color: #f00000; text-decoration-thickness: 4px; text-underline-offset: 3px;\"> minutes</span><span style=\"text-decoration: underline; text-decoration-color: #fffdfd; text-decoration-thickness: 4px; text-underline-offset: 3px;\"> until</span><span style=\"text-decoration: underline; text-decoration-color: #ff1111; text-decoration-thickness: 4px; text-underline-offset: 3px;\"> 11?</span><span style=\"text-decoration: underline; text-decoration-color: #fffdfd; text-decoration-thickness: 4px; text-underline-offset: 3px;\"> Answer</span><span style=\"text-decoration: underline; text-decoration-color: #fffdfd; text-decoration-thickness: 4px; text-underline-offset: 3px;\"> in</span><span style=\"text-decoration: underline; text-decoration-color: #fffdfd; text-decoration-thickness: 4px; text-underline-offset: 3px;\"> one</span><span style=\"text-decoration: underline; text-decoration-color: #fffdfd; text-decoration-thickness: 4px; text-underline-offset: 3px;\"> word.</span> -> 73</div>"
      ],
      "text/plain": [
       "<IPython.core.display.HTML object>"
      ]
     },
     "metadata": {},
     "output_type": "display_data"
    },
    {
     "name": "stdout",
     "output_type": "stream",
     "text": [
      "{'prompt': 'The clock shows 9:47. How many minutes until 11?', 'key_strs': ['9:47', '11'], 'answer': '73', 'algorithm': 'iterative', 'attr_method': 'cosine', 'perturb_method': 'nth_nearest', 'api_calls': 14, 'duration': 3.2586612701416016, 'mean_attr': 0.11651701652086698, 'mean_key_attr': 0.47622236609458923, 'correct': True}\n"
     ]
    },
    {
     "name": "stderr",
     "output_type": "stream",
     "text": [
      "Sending 5 concurrent requests at a time: 100%|██████████| 2/2 [00:02<00:00,  1.41s/it]\n",
      "Sending 5 concurrent requests at a time: 100%|██████████| 2/2 [00:02<00:00,  1.24s/it]\n"
     ]
    },
    {
     "data": {
      "text/html": [
       "<div style=\"font-family: monospace; line-height: 1.5;\"><span style=\"text-decoration: underline; text-decoration-color: #ffc9c9; text-decoration-thickness: 4px; text-underline-offset: 3px;\">The</span><span style=\"text-decoration: underline; text-decoration-color: #ffc5c5; text-decoration-thickness: 4px; text-underline-offset: 3px;\"> clock</span><span style=\"text-decoration: underline; text-decoration-color: #ffc5c5; text-decoration-thickness: 4px; text-underline-offset: 3px;\"> shows</span><span style=\"text-decoration: underline; text-decoration-color: #ff2929; text-decoration-thickness: 4px; text-underline-offset: 3px;\"> 9:47.</span><span style=\"text-decoration: underline; text-decoration-color: #ffa9a9; text-decoration-thickness: 4px; text-underline-offset: 3px;\"> How</span><span style=\"text-decoration: underline; text-decoration-color: #ffa9a9; text-decoration-thickness: 4px; text-underline-offset: 3px;\"> many</span><span style=\"text-decoration: underline; text-decoration-color: #ff2d2d; text-decoration-thickness: 4px; text-underline-offset: 3px;\"> minutes</span><span style=\"text-decoration: underline; text-decoration-color: #ff2121; text-decoration-thickness: 4px; text-underline-offset: 3px;\"> until</span><span style=\"text-decoration: underline; text-decoration-color: #ff2525; text-decoration-thickness: 4px; text-underline-offset: 3px;\"> 11?</span><span style=\"text-decoration: underline; text-decoration-color: #ffe1e1; text-decoration-thickness: 4px; text-underline-offset: 3px;\"> Answer</span><span style=\"text-decoration: underline; text-decoration-color: #ffe1e1; text-decoration-thickness: 4px; text-underline-offset: 3px;\"> in</span><span style=\"text-decoration: underline; text-decoration-color: #ffe1e1; text-decoration-thickness: 4px; text-underline-offset: 3px;\"> one</span><span style=\"text-decoration: underline; text-decoration-color: #fdfdff; text-decoration-thickness: 4px; text-underline-offset: 3px;\"> word.</span> -> 73</div>"
      ],
      "text/plain": [
       "<IPython.core.display.HTML object>"
      ]
     },
     "metadata": {},
     "output_type": "display_data"
    },
    {
     "name": "stdout",
     "output_type": "stream",
     "text": [
      "{'prompt': 'The clock shows 9:47. How many minutes until 11?', 'key_strs': ['9:47', '11'], 'answer': '73', 'algorithm': 'hierarchical', 'attr_method': 'prob_diff', 'perturb_method': 'fixed', 'api_calls': 19, 'duration': 7.217117786407471, 'mean_attr': 0.21900062778142615, 'mean_key_attr': 0.16658597016874915, 'correct': False}\n"
     ]
    },
    {
     "name": "stderr",
     "output_type": "stream",
     "text": [
      "Sending 5 concurrent requests at a time: 100%|██████████| 2/2 [00:01<00:00,  1.69it/s]\n",
      "Sending 5 concurrent requests at a time: 100%|██████████| 2/2 [00:01<00:00,  1.90it/s]\n"
     ]
    },
    {
     "data": {
      "text/html": [
       "<div style=\"font-family: monospace; line-height: 1.5;\"><span style=\"text-decoration: underline; text-decoration-color: #ffe9e9; text-decoration-thickness: 4px; text-underline-offset: 3px;\">The</span><span style=\"text-decoration: underline; text-decoration-color: #ffe9e9; text-decoration-thickness: 4px; text-underline-offset: 3px;\"> clock</span><span style=\"text-decoration: underline; text-decoration-color: #ffe9e9; text-decoration-thickness: 4px; text-underline-offset: 3px;\"> shows</span><span style=\"text-decoration: underline; text-decoration-color: #ff2929; text-decoration-thickness: 4px; text-underline-offset: 3px;\"> 9:47.</span><span style=\"text-decoration: underline; text-decoration-color: #ff8d8d; text-decoration-thickness: 4px; text-underline-offset: 3px;\"> How</span><span style=\"text-decoration: underline; text-decoration-color: #ff8d8d; text-decoration-thickness: 4px; text-underline-offset: 3px;\"> many</span><span style=\"text-decoration: underline; text-decoration-color: #ff2929; text-decoration-thickness: 4px; text-underline-offset: 3px;\"> minutes</span><span style=\"text-decoration: underline; text-decoration-color: #ff8989; text-decoration-thickness: 4px; text-underline-offset: 3px;\"> until</span><span style=\"text-decoration: underline; text-decoration-color: #ff2121; text-decoration-thickness: 4px; text-underline-offset: 3px;\"> 11?</span><span style=\"text-decoration: underline; text-decoration-color: #ffe1e1; text-decoration-thickness: 4px; text-underline-offset: 3px;\"> Answer</span><span style=\"text-decoration: underline; text-decoration-color: #ffe1e1; text-decoration-thickness: 4px; text-underline-offset: 3px;\"> in</span><span style=\"text-decoration: underline; text-decoration-color: #ffe1e1; text-decoration-thickness: 4px; text-underline-offset: 3px;\"> one</span><span style=\"text-decoration: underline; text-decoration-color: #fffdfd; text-decoration-thickness: 4px; text-underline-offset: 3px;\"> word.</span> -> 73</div>"
      ],
      "text/plain": [
       "<IPython.core.display.HTML object>"
      ]
     },
     "metadata": {},
     "output_type": "display_data"
    },
    {
     "name": "stdout",
     "output_type": "stream",
     "text": [
      "{'prompt': 'The clock shows 9:47. How many minutes until 11?', 'key_strs': ['9:47', '11'], 'answer': '73', 'algorithm': 'hierarchical', 'attr_method': 'prob_diff', 'perturb_method': 'nth_nearest', 'api_calls': 19, 'duration': 12.134681940078735, 'mean_attr': 0.19298478293716287, 'mean_key_attr': 0.16658597016874915, 'correct': False}\n"
     ]
    },
    {
     "name": "stderr",
     "output_type": "stream",
     "text": [
      "Sending 5 concurrent requests at a time: 100%|██████████| 2/2 [00:02<00:00,  1.20s/it]\n",
      "Sending 5 concurrent requests at a time: 100%|██████████| 2/2 [00:01<00:00,  1.94it/s]\n"
     ]
    },
    {
     "data": {
      "text/html": [
       "<div style=\"font-family: monospace; line-height: 1.5;\"><span style=\"text-decoration: underline; text-decoration-color: #ffcdcd; text-decoration-thickness: 4px; text-underline-offset: 3px;\">The</span><span style=\"text-decoration: underline; text-decoration-color: #ffd5d5; text-decoration-thickness: 4px; text-underline-offset: 3px;\"> clock</span><span style=\"text-decoration: underline; text-decoration-color: #ffd5d5; text-decoration-thickness: 4px; text-underline-offset: 3px;\"> shows</span><span style=\"text-decoration: underline; text-decoration-color: #ff7979; text-decoration-thickness: 4px; text-underline-offset: 3px;\"> 9:47.</span><span style=\"text-decoration: underline; text-decoration-color: #ffc9c9; text-decoration-thickness: 4px; text-underline-offset: 3px;\"> How</span><span style=\"text-decoration: underline; text-decoration-color: #ffc9c9; text-decoration-thickness: 4px; text-underline-offset: 3px;\"> many</span><span style=\"text-decoration: underline; text-decoration-color: #ffd5d5; text-decoration-thickness: 4px; text-underline-offset: 3px;\"> minutes</span><span style=\"text-decoration: underline; text-decoration-color: #ffd5d5; text-decoration-thickness: 4px; text-underline-offset: 3px;\"> until</span><span style=\"text-decoration: underline; text-decoration-color: #ffd5d5; text-decoration-thickness: 4px; text-underline-offset: 3px;\"> 11?</span><span style=\"text-decoration: underline; text-decoration-color: #ffdddd; text-decoration-thickness: 4px; text-underline-offset: 3px;\"> Answer</span><span style=\"text-decoration: underline; text-decoration-color: #ffdddd; text-decoration-thickness: 4px; text-underline-offset: 3px;\"> in</span><span style=\"text-decoration: underline; text-decoration-color: #ffdddd; text-decoration-thickness: 4px; text-underline-offset: 3px;\"> one</span><span style=\"text-decoration: underline; text-decoration-color: #ff9d9d; text-decoration-thickness: 4px; text-underline-offset: 3px;\"> word.</span> -> 73</div>"
      ],
      "text/plain": [
       "<IPython.core.display.HTML object>"
      ]
     },
     "metadata": {},
     "output_type": "display_data"
    },
    {
     "name": "stdout",
     "output_type": "stream",
     "text": [
      "{'prompt': 'The clock shows 9:47. How many minutes until 11?', 'key_strs': ['9:47', '11'], 'answer': '73', 'algorithm': 'hierarchical', 'attr_method': 'cosine', 'perturb_method': 'fixed', 'api_calls': 17, 'duration': 4.353753089904785, 'mean_attr': 0.10917184935059658, 'mean_key_attr': 0.11076738437016806, 'correct': True}\n"
     ]
    },
    {
     "name": "stderr",
     "output_type": "stream",
     "text": [
      "Sending 5 concurrent requests at a time: 100%|██████████| 2/2 [00:01<00:00,  1.62it/s]\n",
      "Sending 5 concurrent requests at a time: 100%|██████████| 2/2 [00:00<00:00,  2.21it/s]\n"
     ]
    },
    {
     "data": {
      "text/html": [
       "<div style=\"font-family: monospace; line-height: 1.5;\"><span style=\"text-decoration: underline; text-decoration-color: #fff5f5; text-decoration-thickness: 4px; text-underline-offset: 3px;\">The</span><span style=\"text-decoration: underline; text-decoration-color: #fff5f5; text-decoration-thickness: 4px; text-underline-offset: 3px;\"> clock</span><span style=\"text-decoration: underline; text-decoration-color: #fff5f5; text-decoration-thickness: 4px; text-underline-offset: 3px;\"> shows</span><span style=\"text-decoration: underline; text-decoration-color: #ff9999; text-decoration-thickness: 4px; text-underline-offset: 3px;\"> 9:47.</span><span style=\"text-decoration: underline; text-decoration-color: #ffd9d9; text-decoration-thickness: 4px; text-underline-offset: 3px;\"> How</span><span style=\"text-decoration: underline; text-decoration-color: #ffd9d9; text-decoration-thickness: 4px; text-underline-offset: 3px;\"> many</span><span style=\"text-decoration: underline; text-decoration-color: #ff9999; text-decoration-thickness: 4px; text-underline-offset: 3px;\"> minutes</span><span style=\"text-decoration: underline; text-decoration-color: #ffcdcd; text-decoration-thickness: 4px; text-underline-offset: 3px;\"> until</span><span style=\"text-decoration: underline; text-decoration-color: #ffa1a1; text-decoration-thickness: 4px; text-underline-offset: 3px;\"> 11?</span><span style=\"text-decoration: underline; text-decoration-color: #fff5f5; text-decoration-thickness: 4px; text-underline-offset: 3px;\"> Answer</span><span style=\"text-decoration: underline; text-decoration-color: #fff5f5; text-decoration-thickness: 4px; text-underline-offset: 3px;\"> in</span><span style=\"text-decoration: underline; text-decoration-color: #fff5f5; text-decoration-thickness: 4px; text-underline-offset: 3px;\"> one</span><span style=\"text-decoration: underline; text-decoration-color: #fffdfd; text-decoration-thickness: 4px; text-underline-offset: 3px;\"> word.</span> -> 73</div>"
      ],
      "text/plain": [
       "<IPython.core.display.HTML object>"
      ]
     },
     "metadata": {},
     "output_type": "display_data"
    },
    {
     "name": "stdout",
     "output_type": "stream",
     "text": [
      "{'prompt': 'The clock shows 9:47. How many minutes until 11?', 'key_strs': ['9:47', '11'], 'answer': '73', 'algorithm': 'hierarchical', 'attr_method': 'cosine', 'perturb_method': 'nth_nearest', 'api_calls': 19, 'duration': 12.298116207122803, 'mean_attr': 0.08260827040185734, 'mean_key_attr': 0.07204000155131023, 'correct': False}\n"
     ]
    }
   ],
   "source": [
    "logger = ExperimentLogger()\n",
    "\n",
    "algos = ['iterative', 'hierarchical']\n",
    "attr_methods = ['prob_diff', 'cosine']\n",
    "perturb_methods = ['fixed', 'nth_nearest']\n",
    "\n",
    "results = []\n",
    "\n",
    "for sample in samples:\n",
    "    for algo in algos:\n",
    "        for attr_method in attr_methods:\n",
    "            for perturb_method in perturb_methods:\n",
    "                prompt = sample[\"prompt\"] + brevity_prompt\n",
    "                key_strs = sample[\"key_strs\"]\n",
    "                sample_copy = sample.copy()\n",
    "                sample_copy.update({\"algorithm\":algo, \"attr_method\":attr_method, \"perturb_method\":perturb_method})\n",
    "\n",
    "                if perturb_method == 'fixed':\n",
    "                    perturbation_strategy = FixedPerturbationStrategy(replacement_token=\"\")\n",
    "                elif perturb_method == 'nth_nearest':\n",
    "                    perturbation_strategy = NthNearestPerturbationStrategy(n=1)\n",
    "                \n",
    "                if algo == 'iterative':\n",
    "                    await gpt4_attributor.iterative_perturbation(\n",
    "                        prompt,\n",
    "                        logger=logger,\n",
    "                        attribution_strategies=[attr_method],\n",
    "                        unit_definition=\"word\",\n",
    "                        perturbation_strategy=perturbation_strategy,\n",
    "                    )\n",
    "                elif algo == 'hierarchical':\n",
    "                    await gpt4_attributor.hierarchical_perturbation(\n",
    "                        prompt,\n",
    "                        logger=logger,\n",
    "                        attribution_strategies=[attr_method],\n",
    "                        unit_definition=\"word\",\n",
    "                        perturbation_strategy=perturbation_strategy,\n",
    "                    )\n",
    "                else:\n",
    "                    break\n",
    "\n",
    "                attr = logger.df_input_token_attribution\n",
    "                exps = logger.df_experiments\n",
    "\n",
    "                attr = attr[attr[\"exp_id\"] == attr[\"exp_id\"].max()]\n",
    "                exps = exps[exps[\"exp_id\"] == exps[\"exp_id\"].max()]\n",
    "                api_calls = exps[\"num_llm_calls\"].values[0]\n",
    "                duration = exps[\"duration\"].values[0]\n",
    "\n",
    "                mean_attr = attr['attr_score'].mean()\n",
    "                key_attr = 0\n",
    "                for key in key_strs:\n",
    "                    filtered = attr[attr[\"input_token\"].str.contains(key)]\n",
    "                    key_attr += filtered[\"attr_score\"].values[0]\n",
    "                key_attr = key_attr/len(key_strs)\n",
    "                correct = key_attr > mean_attr\n",
    "                sample_copy.update({\"api_calls\":api_calls, \"duration\":duration,\n",
    "                               \"mean_attr\":mean_attr, \"mean_key_attr\":key_attr, \"correct\":correct})\n",
    "                logger.print_text_total_attribution(exp_id=-1)\n",
    "                print(sample_copy)\n",
    "                results.append(sample_copy)"
   ]
  },
  {
   "cell_type": "code",
   "execution_count": 44,
   "metadata": {},
   "outputs": [
    {
     "data": {
      "text/html": [
       "<div>\n",
       "<style scoped>\n",
       "    .dataframe tbody tr th:only-of-type {\n",
       "        vertical-align: middle;\n",
       "    }\n",
       "\n",
       "    .dataframe tbody tr th {\n",
       "        vertical-align: top;\n",
       "    }\n",
       "\n",
       "    .dataframe thead th {\n",
       "        text-align: right;\n",
       "    }\n",
       "</style>\n",
       "<table border=\"1\" class=\"dataframe\">\n",
       "  <thead>\n",
       "    <tr style=\"text-align: right;\">\n",
       "      <th></th>\n",
       "      <th>prompt</th>\n",
       "      <th>key_strs</th>\n",
       "      <th>answer</th>\n",
       "      <th>algorithm</th>\n",
       "      <th>attr_method</th>\n",
       "      <th>perturb_method</th>\n",
       "      <th>api_calls</th>\n",
       "      <th>duration</th>\n",
       "      <th>mean_attr</th>\n",
       "      <th>mean_key_attr</th>\n",
       "      <th>correct</th>\n",
       "    </tr>\n",
       "  </thead>\n",
       "  <tbody>\n",
       "    <tr>\n",
       "      <th>0</th>\n",
       "      <td>The clock shows 9:47. How many minutes until 11?</td>\n",
       "      <td>[9:47, 11]</td>\n",
       "      <td>73</td>\n",
       "      <td>iterative</td>\n",
       "      <td>prob_diff</td>\n",
       "      <td>fixed</td>\n",
       "      <td>14</td>\n",
       "      <td>1.101004</td>\n",
       "      <td>0.405074</td>\n",
       "      <td>0.922064</td>\n",
       "      <td>True</td>\n",
       "    </tr>\n",
       "    <tr>\n",
       "      <th>1</th>\n",
       "      <td>The clock shows 9:47. How many minutes until 11?</td>\n",
       "      <td>[9:47, 11]</td>\n",
       "      <td>73</td>\n",
       "      <td>iterative</td>\n",
       "      <td>prob_diff</td>\n",
       "      <td>nth_nearest</td>\n",
       "      <td>14</td>\n",
       "      <td>4.032687</td>\n",
       "      <td>0.267169</td>\n",
       "      <td>0.999699</td>\n",
       "      <td>True</td>\n",
       "    </tr>\n",
       "    <tr>\n",
       "      <th>2</th>\n",
       "      <td>The clock shows 9:47. How many minutes until 11?</td>\n",
       "      <td>[9:47, 11]</td>\n",
       "      <td>73</td>\n",
       "      <td>iterative</td>\n",
       "      <td>cosine</td>\n",
       "      <td>fixed</td>\n",
       "      <td>14</td>\n",
       "      <td>1.264885</td>\n",
       "      <td>0.258264</td>\n",
       "      <td>0.629426</td>\n",
       "      <td>True</td>\n",
       "    </tr>\n",
       "    <tr>\n",
       "      <th>3</th>\n",
       "      <td>The clock shows 9:47. How many minutes until 11?</td>\n",
       "      <td>[9:47, 11]</td>\n",
       "      <td>73</td>\n",
       "      <td>iterative</td>\n",
       "      <td>cosine</td>\n",
       "      <td>nth_nearest</td>\n",
       "      <td>14</td>\n",
       "      <td>3.258661</td>\n",
       "      <td>0.116517</td>\n",
       "      <td>0.476222</td>\n",
       "      <td>True</td>\n",
       "    </tr>\n",
       "    <tr>\n",
       "      <th>4</th>\n",
       "      <td>The clock shows 9:47. How many minutes until 11?</td>\n",
       "      <td>[9:47, 11]</td>\n",
       "      <td>73</td>\n",
       "      <td>hierarchical</td>\n",
       "      <td>prob_diff</td>\n",
       "      <td>fixed</td>\n",
       "      <td>19</td>\n",
       "      <td>7.217118</td>\n",
       "      <td>0.219001</td>\n",
       "      <td>0.166586</td>\n",
       "      <td>False</td>\n",
       "    </tr>\n",
       "    <tr>\n",
       "      <th>5</th>\n",
       "      <td>The clock shows 9:47. How many minutes until 11?</td>\n",
       "      <td>[9:47, 11]</td>\n",
       "      <td>73</td>\n",
       "      <td>hierarchical</td>\n",
       "      <td>prob_diff</td>\n",
       "      <td>nth_nearest</td>\n",
       "      <td>19</td>\n",
       "      <td>12.134682</td>\n",
       "      <td>0.192985</td>\n",
       "      <td>0.166586</td>\n",
       "      <td>False</td>\n",
       "    </tr>\n",
       "    <tr>\n",
       "      <th>6</th>\n",
       "      <td>The clock shows 9:47. How many minutes until 11?</td>\n",
       "      <td>[9:47, 11]</td>\n",
       "      <td>73</td>\n",
       "      <td>hierarchical</td>\n",
       "      <td>cosine</td>\n",
       "      <td>fixed</td>\n",
       "      <td>17</td>\n",
       "      <td>4.353753</td>\n",
       "      <td>0.109172</td>\n",
       "      <td>0.110767</td>\n",
       "      <td>True</td>\n",
       "    </tr>\n",
       "    <tr>\n",
       "      <th>7</th>\n",
       "      <td>The clock shows 9:47. How many minutes until 11?</td>\n",
       "      <td>[9:47, 11]</td>\n",
       "      <td>73</td>\n",
       "      <td>hierarchical</td>\n",
       "      <td>cosine</td>\n",
       "      <td>nth_nearest</td>\n",
       "      <td>19</td>\n",
       "      <td>12.298116</td>\n",
       "      <td>0.082608</td>\n",
       "      <td>0.072040</td>\n",
       "      <td>False</td>\n",
       "    </tr>\n",
       "  </tbody>\n",
       "</table>\n",
       "</div>"
      ],
      "text/plain": [
       "                                             prompt    key_strs answer  \\\n",
       "0  The clock shows 9:47. How many minutes until 11?  [9:47, 11]     73   \n",
       "1  The clock shows 9:47. How many minutes until 11?  [9:47, 11]     73   \n",
       "2  The clock shows 9:47. How many minutes until 11?  [9:47, 11]     73   \n",
       "3  The clock shows 9:47. How many minutes until 11?  [9:47, 11]     73   \n",
       "4  The clock shows 9:47. How many minutes until 11?  [9:47, 11]     73   \n",
       "5  The clock shows 9:47. How many minutes until 11?  [9:47, 11]     73   \n",
       "6  The clock shows 9:47. How many minutes until 11?  [9:47, 11]     73   \n",
       "7  The clock shows 9:47. How many minutes until 11?  [9:47, 11]     73   \n",
       "\n",
       "      algorithm attr_method perturb_method  api_calls   duration  mean_attr  \\\n",
       "0     iterative   prob_diff          fixed         14   1.101004   0.405074   \n",
       "1     iterative   prob_diff    nth_nearest         14   4.032687   0.267169   \n",
       "2     iterative      cosine          fixed         14   1.264885   0.258264   \n",
       "3     iterative      cosine    nth_nearest         14   3.258661   0.116517   \n",
       "4  hierarchical   prob_diff          fixed         19   7.217118   0.219001   \n",
       "5  hierarchical   prob_diff    nth_nearest         19  12.134682   0.192985   \n",
       "6  hierarchical      cosine          fixed         17   4.353753   0.109172   \n",
       "7  hierarchical      cosine    nth_nearest         19  12.298116   0.082608   \n",
       "\n",
       "   mean_key_attr  correct  \n",
       "0       0.922064     True  \n",
       "1       0.999699     True  \n",
       "2       0.629426     True  \n",
       "3       0.476222     True  \n",
       "4       0.166586    False  \n",
       "5       0.166586    False  \n",
       "6       0.110767     True  \n",
       "7       0.072040    False  "
      ]
     },
     "metadata": {},
     "output_type": "display_data"
    }
   ],
   "source": [
    "\n",
    "results_df = pd.DataFrame(results)\n",
    "display(results_df)"
   ]
  },
  {
   "cell_type": "code",
   "execution_count": null,
   "metadata": {},
   "outputs": [],
   "source": []
  }
 ],
 "metadata": {
  "kernelspec": {
   "display_name": "venv",
   "language": "python",
   "name": "python3"
  },
  "language_info": {
   "codemirror_mode": {
    "name": "ipython",
    "version": 3
   },
   "file_extension": ".py",
   "mimetype": "text/x-python",
   "name": "python",
   "nbconvert_exporter": "python",
   "pygments_lexer": "ipython3",
   "version": "3.12.4"
  }
 },
 "nbformat": 4,
 "nbformat_minor": 2
}
