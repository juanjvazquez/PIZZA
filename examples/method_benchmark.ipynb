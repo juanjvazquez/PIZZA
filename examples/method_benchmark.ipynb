{
 "cells": [
  {
   "cell_type": "code",
   "execution_count": 1,
   "metadata": {},
   "outputs": [
    {
     "name": "stderr",
     "output_type": "stream",
     "text": [
      "/Users/jessicarumbelow/PIZZA/.venv/lib/python3.10/site-packages/tqdm/auto.py:21: TqdmWarning: IProgress not found. Please update jupyter and ipywidgets. See https://ipywidgets.readthedocs.io/en/stable/user_install.html\n",
      "  from .autonotebook import tqdm as notebook_tqdm\n",
      "/Users/jessicarumbelow/PIZZA/.venv/lib/python3.10/site-packages/huggingface_hub/file_download.py:1132: FutureWarning: `resume_download` is deprecated and will be removed in version 1.0.0. Downloads always resume when possible. If you want to force a new download, use `force_download=True`.\n",
      "  warnings.warn(\n"
     ]
    }
   ],
   "source": [
    "from attribution.api_attribution import OpenAIAttributor\n",
    "from attribution.experiment_logger import ExperimentLogger\n",
    "from attribution.token_perturbation import FixedPerturbationStrategy, NthNearestPerturbationStrategy\n",
    "import pandas as pd\n",
    "\n",
    "# Re-import modified modules without restarting the server (for dev use)\n",
    "%load_ext autoreload\n",
    "%autoreload 2\n",
    "\n",
    "import os\n",
    "\n",
    "from dotenv import load_dotenv\n",
    "\n",
    "# Checks if you're using a .env file, and loads it if so.\n",
    "if os.path.isfile(\".env\"):\n",
    "    load_dotenv()\n",
    "\n",
    "import warnings\n",
    "\n",
    "# Suppress annoying FutureWarning from huggingface_hub that is not our fault\n",
    "warnings.filterwarnings(\"ignore\", category=FutureWarning, module=\"huggingface_hub\")"
   ]
  },
  {
   "cell_type": "code",
   "execution_count": 2,
   "metadata": {},
   "outputs": [],
   "source": [
    "gpt4_attributor = OpenAIAttributor(\n",
    "    openai_api_key=os.getenv(\"OPENAI_API_KEY\"),\n",
    "    max_concurrent_requests=5,\n",
    "    openai_model=\"gpt-4o\",\n",
    ")"
   ]
  },
  {
   "cell_type": "code",
   "execution_count": 28,
   "metadata": {},
   "outputs": [],
   "source": [
    "samples = [\n",
    "    {\n",
    "        \"prompt\": \"What is the capital of Japan?\",\n",
    "        \"key_strs\": [\"capital\", \"Japan\"],\n",
    "        \"answer\": \"Tokyo\",\n",
    "    },\n",
    "    {\n",
    "        \"prompt\": \"The clock shows 9:47. How many minutes until 11?\",\n",
    "        \"key_strs\": [\"9:47\", \"11\", \"minutes\"],\n",
    "        \"answer\": \"73\",\n",
    "    },\n",
    "    {\n",
    "        \"prompt\": \"Maria is 37 years old today. How many years till she's 50?\",\n",
    "        \"key_strs\": [\"37\", \"50\"],\n",
    "        \"answer\": \"13\",\n",
    "    },\n",
    "    {\n",
    "        \"prompt\": \"John has 83 books on his shelf. If he buys 17 more books, how many will he have in total?\",\n",
    "        \"key_strs\": [\"83\", \"17\"],\n",
    "        \"answer\": \"100\",\n",
    "    },\n",
    "    {\n",
    "        \"prompt\": \"In which continent is Johannesburg?\",\n",
    "        \"key_strs\": [\"Johannesburg\", \"continent\"],\n",
    "        \"answer\": \"Africa\",\n",
    "    },\n",
    "    {\"prompt\": \"Which element has the symbol O?\", \"key_strs\": [\"element\", \"O\"], \"answer\": \"Oxygen\"},\n",
    "    {\"prompt\": \"What is the largest bird?\", \"key_strs\": [\"largest\", \"bird\"], \"answer\": \"Ostrich\"},\n",
    "    {\n",
    "        \"prompt\": \"What is the smallest prime number?\",\n",
    "        \"key_strs\": [\"smallest\", \"prime\"],\n",
    "        \"answer\": \"2\",\n",
    "    },\n",
    "    {\n",
    "        \"prompt\": \"What colour does mixing red and blue create?\",\n",
    "        \"key_strs\": [\"red\", \"blue\"],\n",
    "        \"answer\": \"purple\",\n",
    "    },\n",
    "    {\"prompt\": \"What is frozen water called?\", \"key_strs\": [\"frozen\", \"water\"], \"answer\": \"ice\"},\n",
    "]\n",
    "\n",
    "brevity_prompt = \" Answer in one word.\""
   ]
  },
  {
   "cell_type": "code",
   "execution_count": 30,
   "metadata": {},
   "outputs": [
    {
     "name": "stdout",
     "output_type": "stream",
     "text": [
      "Starting experiment...\n"
     ]
    },
    {
     "name": "stderr",
     "output_type": "stream",
     "text": [
      "Sending 5 concurrent requests at a time: 100%|██████████| 2/2 [00:01<00:00,  1.51it/s]\n"
     ]
    },
    {
     "data": {
      "text/html": [
       "<div style=\"font-family: monospace; line-height: 1.5;\"><span style=\"text-decoration: underline; text-decoration-color: #fdfdff; text-decoration-thickness: 4px; text-underline-offset: 3px;\">What</span><span style=\"text-decoration: underline; text-decoration-color: #fdfdff; text-decoration-thickness: 4px; text-underline-offset: 3px;\"> is</span><span style=\"text-decoration: underline; text-decoration-color: #fdfdff; text-decoration-thickness: 4px; text-underline-offset: 3px;\"> the</span><span style=\"text-decoration: underline; text-decoration-color: #fdfdff; text-decoration-thickness: 4px; text-underline-offset: 3px;\"> capital</span><span style=\"text-decoration: underline; text-decoration-color: #fdfdff; text-decoration-thickness: 4px; text-underline-offset: 3px;\"> of</span><span style=\"text-decoration: underline; text-decoration-color: #cc0000; text-decoration-thickness: 4px; text-underline-offset: 3px;\"> Japan?</span><span style=\"text-decoration: underline; text-decoration-color: #fdfdff; text-decoration-thickness: 4px; text-underline-offset: 3px;\"> Answer</span><span style=\"text-decoration: underline; text-decoration-color: #fdfdff; text-decoration-thickness: 4px; text-underline-offset: 3px;\"> in</span><span style=\"text-decoration: underline; text-decoration-color: #fdfdff; text-decoration-thickness: 4px; text-underline-offset: 3px;\"> one</span><span style=\"text-decoration: underline; text-decoration-color: #fdfdff; text-decoration-thickness: 4px; text-underline-offset: 3px;\"> word.</span> -> Tokyo</div>"
      ],
      "text/plain": [
       "<IPython.core.display.HTML object>"
      ]
     },
     "metadata": {},
     "output_type": "display_data"
    },
    {
     "name": "stderr",
     "output_type": "stream",
     "text": [
      "/var/folders/x8/lhfgw4gd25v8fngsr00hrx780000gn/T/ipykernel_45555/3204343863.py:143: FutureWarning: The behavior of DataFrame concatenation with empty or all-NA entries is deprecated. In a future version, this will no longer exclude empty or all-NA columns when determining the result dtypes. To retain the old behavior, exclude the relevant entries before the concat operation.\n",
      "  results_df = pd.concat(\n"
     ]
    },
    {
     "name": "stdout",
     "output_type": "stream",
     "text": [
      "Starting experiment...\n"
     ]
    },
    {
     "name": "stderr",
     "output_type": "stream",
     "text": [
      "Sending 5 concurrent requests at a time: 100%|██████████| 2/2 [00:01<00:00,  1.35it/s]\n"
     ]
    },
    {
     "data": {
      "text/html": [
       "<div style=\"font-family: monospace; line-height: 1.5;\"><span style=\"text-decoration: underline; text-decoration-color: #fffdfd; text-decoration-thickness: 4px; text-underline-offset: 3px;\">What</span><span style=\"text-decoration: underline; text-decoration-color: #fffdfd; text-decoration-thickness: 4px; text-underline-offset: 3px;\"> is</span><span style=\"text-decoration: underline; text-decoration-color: #fffdfd; text-decoration-thickness: 4px; text-underline-offset: 3px;\"> the</span><span style=\"text-decoration: underline; text-decoration-color: #ffe5e5; text-decoration-thickness: 4px; text-underline-offset: 3px;\"> capital</span><span style=\"text-decoration: underline; text-decoration-color: #fffdfd; text-decoration-thickness: 4px; text-underline-offset: 3px;\"> of</span><span style=\"text-decoration: underline; text-decoration-color: #860000; text-decoration-thickness: 4px; text-underline-offset: 3px;\"> Japan?</span><span style=\"text-decoration: underline; text-decoration-color: #fffdfd; text-decoration-thickness: 4px; text-underline-offset: 3px;\"> Answer</span><span style=\"text-decoration: underline; text-decoration-color: #fffdfd; text-decoration-thickness: 4px; text-underline-offset: 3px;\"> in</span><span style=\"text-decoration: underline; text-decoration-color: #fffdfd; text-decoration-thickness: 4px; text-underline-offset: 3px;\"> one</span><span style=\"text-decoration: underline; text-decoration-color: #fffdfd; text-decoration-thickness: 4px; text-underline-offset: 3px;\"> word.</span> -> Tokyo</div>"
      ],
      "text/plain": [
       "<IPython.core.display.HTML object>"
      ]
     },
     "metadata": {},
     "output_type": "display_data"
    },
    {
     "name": "stdout",
     "output_type": "stream",
     "text": [
      "Starting experiment...\n"
     ]
    },
    {
     "name": "stderr",
     "output_type": "stream",
     "text": [
      "Sending 5 concurrent requests at a time: 100%|██████████| 2/2 [00:07<00:00,  3.95s/it]\n",
      "Sending 5 concurrent requests at a time: 100%|██████████| 2/2 [00:04<00:00,  2.27s/it]\n",
      "Sending 5 concurrent requests at a time: 100%|██████████| 2/2 [00:03<00:00,  1.61s/it]\n"
     ]
    },
    {
     "data": {
      "text/html": [
       "<div style=\"font-family: monospace; line-height: 1.5;\"><span style=\"text-decoration: underline; text-decoration-color: #ffd9d9; text-decoration-thickness: 4px; text-underline-offset: 3px;\">What</span><span style=\"text-decoration: underline; text-decoration-color: #ffd9d9; text-decoration-thickness: 4px; text-underline-offset: 3px;\"> is</span><span style=\"text-decoration: underline; text-decoration-color: #ffbdbd; text-decoration-thickness: 4px; text-underline-offset: 3px;\"> the</span><span style=\"text-decoration: underline; text-decoration-color: #ffadad; text-decoration-thickness: 4px; text-underline-offset: 3px;\"> capital</span><span style=\"text-decoration: underline; text-decoration-color: #ffa9a9; text-decoration-thickness: 4px; text-underline-offset: 3px;\"> of</span><span style=\"text-decoration: underline; text-decoration-color: #ff4141; text-decoration-thickness: 4px; text-underline-offset: 3px;\"> Japan?</span><span style=\"text-decoration: underline; text-decoration-color: #ffb5b5; text-decoration-thickness: 4px; text-underline-offset: 3px;\"> Answer</span><span style=\"text-decoration: underline; text-decoration-color: #ffcdcd; text-decoration-thickness: 4px; text-underline-offset: 3px;\"> in</span><span style=\"text-decoration: underline; text-decoration-color: #ffc1c1; text-decoration-thickness: 4px; text-underline-offset: 3px;\"> one</span><span style=\"text-decoration: underline; text-decoration-color: #ffc1c1; text-decoration-thickness: 4px; text-underline-offset: 3px;\"> word.</span> -> Tokyo</div>"
      ],
      "text/plain": [
       "<IPython.core.display.HTML object>"
      ]
     },
     "metadata": {},
     "output_type": "display_data"
    },
    {
     "name": "stdout",
     "output_type": "stream",
     "text": [
      "Starting experiment...\n"
     ]
    },
    {
     "name": "stderr",
     "output_type": "stream",
     "text": [
      "Sending 5 concurrent requests at a time: 100%|██████████| 2/2 [00:04<00:00,  2.10s/it]\n"
     ]
    },
    {
     "data": {
      "text/html": [
       "<div style=\"font-family: monospace; line-height: 1.5;\"><span style=\"text-decoration: underline; text-decoration-color: #ffcdcd; text-decoration-thickness: 4px; text-underline-offset: 3px;\">What</span><span style=\"text-decoration: underline; text-decoration-color: #ffcdcd; text-decoration-thickness: 4px; text-underline-offset: 3px;\"> is</span><span style=\"text-decoration: underline; text-decoration-color: #ffb9b9; text-decoration-thickness: 4px; text-underline-offset: 3px;\"> the</span><span style=\"text-decoration: underline; text-decoration-color: #ff9999; text-decoration-thickness: 4px; text-underline-offset: 3px;\"> capital</span><span style=\"text-decoration: underline; text-decoration-color: #ff9d9d; text-decoration-thickness: 4px; text-underline-offset: 3px;\"> of</span><span style=\"text-decoration: underline; text-decoration-color: #ffa1a1; text-decoration-thickness: 4px; text-underline-offset: 3px;\"> Japan?</span><span style=\"text-decoration: underline; text-decoration-color: #ffb1b1; text-decoration-thickness: 4px; text-underline-offset: 3px;\"> Answer</span><span style=\"text-decoration: underline; text-decoration-color: #ffb9b9; text-decoration-thickness: 4px; text-underline-offset: 3px;\"> in</span><span style=\"text-decoration: underline; text-decoration-color: #ff8989; text-decoration-thickness: 4px; text-underline-offset: 3px;\"> one</span><span style=\"text-decoration: underline; text-decoration-color: #ff8585; text-decoration-thickness: 4px; text-underline-offset: 3px;\"> word.</span> -> Tokyo</div>"
      ],
      "text/plain": [
       "<IPython.core.display.HTML object>"
      ]
     },
     "metadata": {},
     "output_type": "display_data"
    },
    {
     "name": "stdout",
     "output_type": "stream",
     "text": [
      "Starting experiment...\n"
     ]
    },
    {
     "name": "stderr",
     "output_type": "stream",
     "text": [
      "Sending 5 concurrent requests at a time: 100%|██████████| 4/4 [00:07<00:00,  1.93s/it]\n"
     ]
    },
    {
     "data": {
      "text/html": [
       "<div style=\"font-family: monospace; line-height: 1.5;\"><span style=\"text-decoration: underline; text-decoration-color: #fdfdff; text-decoration-thickness: 4px; text-underline-offset: 3px;\">.</span><span style=\"text-decoration: underline; text-decoration-color: #fdfdff; text-decoration-thickness: 4px; text-underline-offset: 3px;\"> .</span><span style=\"text-decoration: underline; text-decoration-color: #fdfdff; text-decoration-thickness: 4px; text-underline-offset: 3px;\"> .</span><span style=\"text-decoration: underline; text-decoration-color: #fdfdff; text-decoration-thickness: 4px; text-underline-offset: 3px;\"> .</span><span style=\"text-decoration: underline; text-decoration-color: #fdfdff; text-decoration-thickness: 4px; text-underline-offset: 3px;\"> .</span><span style=\"text-decoration: underline; text-decoration-color: #fdfdff; text-decoration-thickness: 4px; text-underline-offset: 3px;\"> .</span><span style=\"text-decoration: underline; text-decoration-color: #fdfdff; text-decoration-thickness: 4px; text-underline-offset: 3px;\"> .</span><span style=\"text-decoration: underline; text-decoration-color: #fdfdff; text-decoration-thickness: 4px; text-underline-offset: 3px;\"> .</span><span style=\"text-decoration: underline; text-decoration-color: #fdfdff; text-decoration-thickness: 4px; text-underline-offset: 3px;\"> .</span><span style=\"text-decoration: underline; text-decoration-color: #fdfdff; text-decoration-thickness: 4px; text-underline-offset: 3px;\"> .</span><span style=\"text-decoration: underline; text-decoration-color: #fdfdff; text-decoration-thickness: 4px; text-underline-offset: 3px;\"> What</span><span style=\"text-decoration: underline; text-decoration-color: #fdfdff; text-decoration-thickness: 4px; text-underline-offset: 3px;\"> is</span><span style=\"text-decoration: underline; text-decoration-color: #fdfdff; text-decoration-thickness: 4px; text-underline-offset: 3px;\"> the</span><span style=\"text-decoration: underline; text-decoration-color: #fdfdff; text-decoration-thickness: 4px; text-underline-offset: 3px;\"> capital</span><span style=\"text-decoration: underline; text-decoration-color: #fdfdff; text-decoration-thickness: 4px; text-underline-offset: 3px;\"> of</span><span style=\"text-decoration: underline; text-decoration-color: #de0000; text-decoration-thickness: 4px; text-underline-offset: 3px;\"> Japan?</span><span style=\"text-decoration: underline; text-decoration-color: #fdfdff; text-decoration-thickness: 4px; text-underline-offset: 3px;\"> Answer</span><span style=\"text-decoration: underline; text-decoration-color: #fdfdff; text-decoration-thickness: 4px; text-underline-offset: 3px;\"> in</span><span style=\"text-decoration: underline; text-decoration-color: #fdfdff; text-decoration-thickness: 4px; text-underline-offset: 3px;\"> one</span><span style=\"text-decoration: underline; text-decoration-color: #fdfdff; text-decoration-thickness: 4px; text-underline-offset: 3px;\"> word.</span> -> Tokyo</div>"
      ],
      "text/plain": [
       "<IPython.core.display.HTML object>"
      ]
     },
     "metadata": {},
     "output_type": "display_data"
    },
    {
     "name": "stdout",
     "output_type": "stream",
     "text": [
      "Starting experiment...\n"
     ]
    },
    {
     "name": "stderr",
     "output_type": "stream",
     "text": [
      "Sending 5 concurrent requests at a time: 100%|██████████| 4/4 [00:05<00:00,  1.47s/it]\n"
     ]
    },
    {
     "data": {
      "text/html": [
       "<div style=\"font-family: monospace; line-height: 1.5;\"><span style=\"text-decoration: underline; text-decoration-color: #fffdfd; text-decoration-thickness: 4px; text-underline-offset: 3px;\">.</span><span style=\"text-decoration: underline; text-decoration-color: #fffdfd; text-decoration-thickness: 4px; text-underline-offset: 3px;\"> .</span><span style=\"text-decoration: underline; text-decoration-color: #fffdfd; text-decoration-thickness: 4px; text-underline-offset: 3px;\"> .</span><span style=\"text-decoration: underline; text-decoration-color: #fffdfd; text-decoration-thickness: 4px; text-underline-offset: 3px;\"> .</span><span style=\"text-decoration: underline; text-decoration-color: #fffdfd; text-decoration-thickness: 4px; text-underline-offset: 3px;\"> .</span><span style=\"text-decoration: underline; text-decoration-color: #fffdfd; text-decoration-thickness: 4px; text-underline-offset: 3px;\"> .</span><span style=\"text-decoration: underline; text-decoration-color: #fffdfd; text-decoration-thickness: 4px; text-underline-offset: 3px;\"> .</span><span style=\"text-decoration: underline; text-decoration-color: #fffdfd; text-decoration-thickness: 4px; text-underline-offset: 3px;\"> .</span><span style=\"text-decoration: underline; text-decoration-color: #fffdfd; text-decoration-thickness: 4px; text-underline-offset: 3px;\"> .</span><span style=\"text-decoration: underline; text-decoration-color: #fffdfd; text-decoration-thickness: 4px; text-underline-offset: 3px;\"> .</span><span style=\"text-decoration: underline; text-decoration-color: #fffdfd; text-decoration-thickness: 4px; text-underline-offset: 3px;\"> What</span><span style=\"text-decoration: underline; text-decoration-color: #fffdfd; text-decoration-thickness: 4px; text-underline-offset: 3px;\"> is</span><span style=\"text-decoration: underline; text-decoration-color: #fffdfd; text-decoration-thickness: 4px; text-underline-offset: 3px;\"> the</span><span style=\"text-decoration: underline; text-decoration-color: #ffd9d9; text-decoration-thickness: 4px; text-underline-offset: 3px;\"> capital</span><span style=\"text-decoration: underline; text-decoration-color: #fffdfd; text-decoration-thickness: 4px; text-underline-offset: 3px;\"> of</span><span style=\"text-decoration: underline; text-decoration-color: #880000; text-decoration-thickness: 4px; text-underline-offset: 3px;\"> Japan?</span><span style=\"text-decoration: underline; text-decoration-color: #fffdfd; text-decoration-thickness: 4px; text-underline-offset: 3px;\"> Answer</span><span style=\"text-decoration: underline; text-decoration-color: #fffdfd; text-decoration-thickness: 4px; text-underline-offset: 3px;\"> in</span><span style=\"text-decoration: underline; text-decoration-color: #fff9f9; text-decoration-thickness: 4px; text-underline-offset: 3px;\"> one</span><span style=\"text-decoration: underline; text-decoration-color: #fffdfd; text-decoration-thickness: 4px; text-underline-offset: 3px;\"> word.</span> -> Tokyo</div>"
      ],
      "text/plain": [
       "<IPython.core.display.HTML object>"
      ]
     },
     "metadata": {},
     "output_type": "display_data"
    },
    {
     "name": "stdout",
     "output_type": "stream",
     "text": [
      "Starting experiment...\n"
     ]
    }
   ],
   "source": [
    "import numpy as np\n",
    "\n",
    "logger = ExperimentLogger()\n",
    "\n",
    "saliency_percentages = [0.5, 0.1, 0.01]\n",
    "algorithms = [\"iterative\", \"hierarchical\"]\n",
    "attr_methods = [\"cosine\", \"prob_diff\"]\n",
    "perturb_methods = [\"fixed\"]\n",
    "\n",
    "if not os.path.exists(\"pizza_baseline.csv\"):\n",
    "    results_df = pd.DataFrame(\n",
    "        columns=[\n",
    "            \"ix_str\",\n",
    "            \"prompt\",\n",
    "            \"original_prompt\",\n",
    "            \"algorithm\",\n",
    "            \"attr_method\",\n",
    "            \"perturb_method\",\n",
    "            \"target_sal_percentage\",\n",
    "            \"prompt_length\",\n",
    "            \"salient_percentage\",\n",
    "            \"api_calls\",\n",
    "            \"duration\",\n",
    "            \"mean_target_attr\",\n",
    "            \"mean_key_attr\",\n",
    "            \"correct\",\n",
    "        ]\n",
    "    )\n",
    "else:\n",
    "    results_df = pd.read_csv(\"pizza_baseline.csv\")\n",
    "\n",
    "for sample in samples:\n",
    "    for saliency_percentage in saliency_percentages:\n",
    "        for algorithm in algorithms:\n",
    "            for attr_method in attr_methods:\n",
    "                for perturb_method in perturb_methods:\n",
    "                    prompt = sample[\"prompt\"] + brevity_prompt\n",
    "                    key_strs = sample[\"key_strs\"]\n",
    "\n",
    "                    prompt_extension = int(\n",
    "                        max(0, ((1 / saliency_percentage) * len(key_strs)) - len(prompt.split(\" \")))\n",
    "                    )\n",
    "\n",
    "                    if prompt_extension > 0:\n",
    "                        prompt = \". \" * prompt_extension + prompt\n",
    "\n",
    "                    res = {\n",
    "                        \"algorithm\": algorithm,\n",
    "                        \"attr_method\": attr_method,\n",
    "                        \"perturb_method\": perturb_method,\n",
    "                        \"target_sal_percentage\": saliency_percentage,\n",
    "                        \"prompt\": prompt,\n",
    "                        \"original_prompt\": sample[\"prompt\"],\n",
    "                        \"prompt_length\": len(prompt.split(\" \")),\n",
    "                        \"salient_percentage\": len(key_strs) / len(prompt.split(\" \")),\n",
    "                    }\n",
    "\n",
    "                    ix_str = str([v for v in res.values()])\n",
    "                    res[\"ix_str\"] = ix_str\n",
    "\n",
    "                    if ix_str in results_df[\"ix_str\"].values:\n",
    "                        print(\"Skipping experiment...\")\n",
    "                        continue\n",
    "                    print(\"Starting experiment...\")\n",
    "                    perturbation_strategy = (\n",
    "                        FixedPerturbationStrategy(replacement_token=\"\")\n",
    "                        if perturb_method == \"fixed\"\n",
    "                        else NthNearestPerturbationStrategy(n=-1)\n",
    "                    )\n",
    "\n",
    "                    if algorithm == \"iterative\":\n",
    "                        await gpt4_attributor.iterative_perturbation(\n",
    "                            prompt,\n",
    "                            logger=logger,\n",
    "                            attribution_strategies=[attr_method],\n",
    "                            unit_definition=\"word\",\n",
    "                            perturbation_strategy=perturbation_strategy,\n",
    "                        )\n",
    "                    else:\n",
    "                        await gpt4_attributor.hierarchical_perturbation(\n",
    "                            prompt,\n",
    "                            logger=logger,\n",
    "                            attribution_strategies=[attr_method],\n",
    "                            unit_definition=\"word\",\n",
    "                            perturbation_strategy=perturbation_strategy,\n",
    "                        )\n",
    "\n",
    "                    attr = logger.get_attribution_matrices(exp_id=-1)[0]\n",
    "                    exps = logger.df_experiments[\n",
    "                        logger.df_experiments[\"exp_id\"] == logger.df_experiments[\"exp_id\"].max()\n",
    "                    ]\n",
    "                    sample_copy = {\n",
    "                        **sample,\n",
    "                        **res,\n",
    "                        \"api_calls\": exps[\"num_llm_calls\"].values[0],\n",
    "                        \"duration\": exps[\"duration\"].values[0],\n",
    "                        \"completion\": exps[\"original_output\"].values[0],\n",
    "                        \"unit\": exps[\"unit_definition\"].values[0],\n",
    "                    }\n",
    "                    sample_copy[\"key_strs\"] = key_strs\n",
    "\n",
    "                    # This is hacky because we don't know how the completion will be tokenised.\n",
    "                    # May cause unexpected behaviour if e.g. completion contains multiple tokens that are substrings of the specified answer.\n",
    "                    # For this reason, we have the brevity_prompt to try to ensure that the answer is a single word.\n",
    "                    target_col = [\n",
    "                        c\n",
    "                        for c in attr.columns\n",
    "                        if sample[\"answer\"].lower() in c.lower()\n",
    "                        or \"\".join(c.lower().split(\" \")[:-1]) in sample[\"answer\"].lower()\n",
    "                    ]\n",
    "                    all_attr = attr.T.to_dict()\n",
    "                    if target_col:\n",
    "                        target_attr = attr[target_col].T\n",
    "                        mean_target_attr = target_attr.values.mean()\n",
    "                        key_attr = {\n",
    "                            key: target_attr[c].values.mean()\n",
    "                            for key in key_strs\n",
    "                            for c in target_attr.columns\n",
    "                            if key in c\n",
    "                        }\n",
    "                        mean_key_attr = np.array(list(key_attr.values())).mean()\n",
    "                        correct = mean_key_attr > mean_target_attr\n",
    "                    else:\n",
    "                        all_attr, mean_target_attr, key_attr, mean_key_attr, correct = (\n",
    "                            None,\n",
    "                            None,\n",
    "                            None,\n",
    "                            None,\n",
    "                            None,\n",
    "                        )\n",
    "\n",
    "                    sample_copy.update(\n",
    "                        {\n",
    "                            \"mean_target_attr\": mean_target_attr,\n",
    "                            \"mean_key_attr\": mean_key_attr,\n",
    "                            \"all_attr\": all_attr,\n",
    "                            \"key_attr\": key_attr,\n",
    "                            \"correct\": correct,\n",
    "                        }\n",
    "                    )\n",
    "                    logger.print_text_total_attribution(exp_id=-1)\n",
    "\n",
    "                    results_df = pd.concat(\n",
    "                        [results_df, pd.DataFrame([sample_copy])], ignore_index=True\n",
    "                    )\n",
    "                    results_df.to_csv(\"pizza_baseline.csv\", index=False)"
   ]
  },
  {
   "cell_type": "code",
   "execution_count": 19,
   "metadata": {},
   "outputs": [],
   "source": []
  },
  {
   "cell_type": "code",
   "execution_count": null,
   "metadata": {},
   "outputs": [],
   "source": []
  }
 ],
 "metadata": {
  "kernelspec": {
   "display_name": "venv",
   "language": "python",
   "name": "python3"
  },
  "language_info": {
   "codemirror_mode": {
    "name": "ipython",
    "version": 3
   },
   "file_extension": ".py",
   "mimetype": "text/x-python",
   "name": "python",
   "nbconvert_exporter": "python",
   "pygments_lexer": "ipython3",
   "version": "3.10.14"
  }
 },
 "nbformat": 4,
 "nbformat_minor": 2
}
