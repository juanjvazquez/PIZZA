{
 "cells": [
  {
   "cell_type": "code",
   "execution_count": 1,
   "metadata": {},
   "outputs": [
    {
     "name": "stderr",
     "output_type": "stream",
     "text": [
      "/Users/jessicacooper/PIZZA/venv/lib/python3.12/site-packages/tqdm/auto.py:21: TqdmWarning: IProgress not found. Please update jupyter and ipywidgets. See https://ipywidgets.readthedocs.io/en/stable/user_install.html\n",
      "  from .autonotebook import tqdm as notebook_tqdm\n",
      "/Users/jessicacooper/PIZZA/venv/lib/python3.12/site-packages/huggingface_hub/file_download.py:1132: FutureWarning: `resume_download` is deprecated and will be removed in version 1.0.0. Downloads always resume when possible. If you want to force a new download, use `force_download=True`.\n",
      "  warnings.warn(\n"
     ]
    }
   ],
   "source": [
    "from attribution.api_attribution import OpenAIAttributor\n",
    "from attribution.experiment_logger import ExperimentLogger\n",
    "from attribution.token_perturbation import FixedPerturbationStrategy, NthNearestPerturbationStrategy\n",
    "import pandas as pd\n",
    "# Re-import modified modules without restarting the server (for dev use)\n",
    "%load_ext autoreload\n",
    "%autoreload 2\n",
    "\n",
    "import os\n",
    "\n",
    "from dotenv import load_dotenv\n",
    "\n",
    "# Checks if you're using a .env file, and loads it if so.\n",
    "if os.path.isfile(\".env\"):\n",
    "    load_dotenv()\n",
    "\n",
    "import warnings\n",
    "\n",
    "# Suppress annoying FutureWarning from huggingface_hub that is not our fault\n",
    "warnings.filterwarnings(\"ignore\", category=FutureWarning, module=\"huggingface_hub\")\n"
   ]
  },
  {
   "cell_type": "code",
   "execution_count": 2,
   "metadata": {},
   "outputs": [],
   "source": [
    "gpt4_attributor = OpenAIAttributor(\n",
    "    openai_api_key=os.getenv(\"OPENAI_API_KEY\"),\n",
    "    max_concurrent_requests=5,\n",
    "    openai_model=\"gpt-4o\",\n",
    ")\n"
   ]
  },
  {
   "cell_type": "code",
   "execution_count": 3,
   "metadata": {},
   "outputs": [],
   "source": [
    "\n",
    "samples = [\n",
    "    {\"prompt\": \"The clock shows 9:47. How many minutes until 11?\", \"key_strs\":[\"9:47\",\"11\", \"minutes\"], \"answer\":\"73\"},\n",
    "    # {\"prompt\": \"Maria is 37 years old today. How many years till she's 50?\", \"key_strs\":[\"37\",\"50\"], \"answer\":\"13\"},\n",
    "    # {\"prompt\": \"John has 83 books on his shelf. If he buys 17 more books, how many will he have in total?\", \"key_strs\":[\"83\",\"17\"], \"answer\":\"100\"},\n",
    "    # {\"prompt\": \"What is the capital of Japan?\", \"key_strs\": [\"capital\", \"Japan\"], \"answer\":\"Tokyo\"},\n",
    "    # {\"prompt\": \"In which continent is Johannesburg?\", \"key_strs\": [\"Johannesburg\", \"continent\"], \"answer\":\"Africa\"},\n",
    "    # {\"prompt\": \"Which element has the symbol O?\", \"key_strs\": [\"element\", \"O\"], \"answer\":\"Oxygen\"},\n",
    "    # {\"prompt\": \"What is the largest bird?\", \"key_strs\": [\"largest\", \"bird\"], \"answer\":\"Ostritch\"},\n",
    "    # {\"prompt\": \"What is the smallest prime number?\", \"key_strs\": [\"smallest\", \"prime\"], \"answer\":\"2\"},\n",
    "    # {\"prompt\": \"What colour does mixing red and blue create?\", \"key_strs\":[\"red\", \"blue\"], \"answer\":\"purple\"},\n",
    "    # {\"prompt\": \"What is frozen water called?\", \"key_strs\":[\"frozen\", \"water\"], \"answer\":\"ice\"},\n",
    "    ]\n",
    "\n",
    "brevity_prompt = \" Answer briefly.\"\n",
    "\n",
    "extension_text = \"Lorem ipsum dolor sit amet, consectetur adipiscing elit. Donec velit erat, auctor in nisi ac, porttitor iaculis erat. Phasellus nec viverra massa. Cras suscipit rutrum elit faucibus consectetur. Nulla ligula elit, rutrum quis pharetra quis, ornare nec arcu. Aliquam sagittis ipsum non aliquam varius. Pellentesque euismod mi dapibus, facilisis sapien venenatis, auctor libero. Phasellus porta eget orci sed feugiat. Phasellus pharetra sem ullamcorper accumsan ornare. Quisque eu leo ipsum. Mauris ultricies congue risus, ut tincidunt mi rhoncus eget. Integer ut accumsan est, pulvinar finibus purus. Morbi quis molestie libero, a convallis risus. Nullam sit amet maximus sem, vel rutrum ipsum. Sed in condimentum augue. Phasellus vitae est nisi. Mauris malesuada urna elit, eget volutpat augue dapibus at. In aliquam nisi purus, tincidunt scelerisque nisi blandit ut. Aenean sem lacus, dapibus id dui ac, congue finibus nunc. Phasellus tellus odio, pellentesque eu est eu, vehicula fringilla ante. Donec vitae iaculis mauris. Nunc mollis feugiat odio ut tincidunt. Aenean ut bibendum augue, eu suscipit mi. Praesent pretium viverra mollis. Donec sit amet accumsan dolor. Maecenas ornare elit ac felis feugiat, et dignissim enim accumsan. Nullam commodo maximus sapien, ut elementum ex porta quis. Donec sit amet dignissim dolor. Aliquam sed rutrum orci.\"\n"
   ]
  },
  {
   "cell_type": "code",
   "execution_count": 7,
   "metadata": {},
   "outputs": [
    {
     "name": "stdout",
     "output_type": "stream",
     "text": [
      "{'algorithm': 'iterative', 'attr_method': 'prob_diff', 'perturb_method': 'fixed', 'target_sal_percentage': 0.5, 'prompt': 'The clock shows 9:47. How many minutes until 11? Answer briefly.', 'original_prompt': 'The clock shows 9:47. How many minutes until 11?', 'prompt_length': 11, 'salient_percentage': 0.2727272727272727, 'ix_str': \"['iterative', 'prob_diff', 'fixed', 0.5, 'The clock shows 9:47. How many minutes until 11? Answer briefly.', 'The clock shows 9:47. How many minutes until 11?', 11, 0.2727272727272727]\"}\n",
      "Skipping experiment...\n",
      "{'algorithm': 'iterative', 'attr_method': 'prob_diff', 'perturb_method': 'nearest', 'target_sal_percentage': 0.5, 'prompt': 'The clock shows 9:47. How many minutes until 11? Answer briefly.', 'original_prompt': 'The clock shows 9:47. How many minutes until 11?', 'prompt_length': 11, 'salient_percentage': 0.2727272727272727, 'ix_str': \"['iterative', 'prob_diff', 'nearest', 0.5, 'The clock shows 9:47. How many minutes until 11? Answer briefly.', 'The clock shows 9:47. How many minutes until 11?', 11, 0.2727272727272727]\"}\n",
      "Skipping experiment...\n",
      "{'algorithm': 'iterative', 'attr_method': 'cosine', 'perturb_method': 'fixed', 'target_sal_percentage': 0.5, 'prompt': 'The clock shows 9:47. How many minutes until 11? Answer briefly.', 'original_prompt': 'The clock shows 9:47. How many minutes until 11?', 'prompt_length': 11, 'salient_percentage': 0.2727272727272727, 'ix_str': \"['iterative', 'cosine', 'fixed', 0.5, 'The clock shows 9:47. How many minutes until 11? Answer briefly.', 'The clock shows 9:47. How many minutes until 11?', 11, 0.2727272727272727]\"}\n",
      "Skipping experiment...\n",
      "{'algorithm': 'iterative', 'attr_method': 'cosine', 'perturb_method': 'nearest', 'target_sal_percentage': 0.5, 'prompt': 'The clock shows 9:47. How many minutes until 11? Answer briefly.', 'original_prompt': 'The clock shows 9:47. How many minutes until 11?', 'prompt_length': 11, 'salient_percentage': 0.2727272727272727, 'ix_str': \"['iterative', 'cosine', 'nearest', 0.5, 'The clock shows 9:47. How many minutes until 11? Answer briefly.', 'The clock shows 9:47. How many minutes until 11?', 11, 0.2727272727272727]\"}\n",
      "Skipping experiment...\n",
      "{'algorithm': 'hierarchical', 'attr_method': 'prob_diff', 'perturb_method': 'fixed', 'target_sal_percentage': 0.5, 'prompt': 'The clock shows 9:47. How many minutes until 11? Answer briefly.', 'original_prompt': 'The clock shows 9:47. How many minutes until 11?', 'prompt_length': 11, 'salient_percentage': 0.2727272727272727, 'ix_str': \"['hierarchical', 'prob_diff', 'fixed', 0.5, 'The clock shows 9:47. How many minutes until 11? Answer briefly.', 'The clock shows 9:47. How many minutes until 11?', 11, 0.2727272727272727]\"}\n",
      "Skipping experiment...\n",
      "{'algorithm': 'hierarchical', 'attr_method': 'prob_diff', 'perturb_method': 'nearest', 'target_sal_percentage': 0.5, 'prompt': 'The clock shows 9:47. How many minutes until 11? Answer briefly.', 'original_prompt': 'The clock shows 9:47. How many minutes until 11?', 'prompt_length': 11, 'salient_percentage': 0.2727272727272727, 'ix_str': \"['hierarchical', 'prob_diff', 'nearest', 0.5, 'The clock shows 9:47. How many minutes until 11? Answer briefly.', 'The clock shows 9:47. How many minutes until 11?', 11, 0.2727272727272727]\"}\n",
      "Skipping experiment...\n",
      "{'algorithm': 'hierarchical', 'attr_method': 'cosine', 'perturb_method': 'fixed', 'target_sal_percentage': 0.5, 'prompt': 'The clock shows 9:47. How many minutes until 11? Answer briefly.', 'original_prompt': 'The clock shows 9:47. How many minutes until 11?', 'prompt_length': 11, 'salient_percentage': 0.2727272727272727, 'ix_str': \"['hierarchical', 'cosine', 'fixed', 0.5, 'The clock shows 9:47. How many minutes until 11? Answer briefly.', 'The clock shows 9:47. How many minutes until 11?', 11, 0.2727272727272727]\"}\n",
      "Skipping experiment...\n",
      "{'algorithm': 'hierarchical', 'attr_method': 'cosine', 'perturb_method': 'nearest', 'target_sal_percentage': 0.5, 'prompt': 'The clock shows 9:47. How many minutes until 11? Answer briefly.', 'original_prompt': 'The clock shows 9:47. How many minutes until 11?', 'prompt_length': 11, 'salient_percentage': 0.2727272727272727, 'ix_str': \"['hierarchical', 'cosine', 'nearest', 0.5, 'The clock shows 9:47. How many minutes until 11? Answer briefly.', 'The clock shows 9:47. How many minutes until 11?', 11, 0.2727272727272727]\"}\n",
      "Skipping experiment...\n",
      "{'algorithm': 'iterative', 'attr_method': 'prob_diff', 'perturb_method': 'fixed', 'target_sal_percentage': 0.1, 'prompt': 'Lorem ipsum dolor sit amet, consectetur adipiscing elit. Donec velit erat, auctor in nisi ac, porttitor iaculis erat. PhasellusThe clock shows 9:47. How many minutes until 11? Answer briefly.', 'original_prompt': 'The clock shows 9:47. How many minutes until 11?', 'prompt_length': 29, 'salient_percentage': 0.10344827586206896, 'ix_str': \"['iterative', 'prob_diff', 'fixed', 0.1, 'Lorem ipsum dolor sit amet, consectetur adipiscing elit. Donec velit erat, auctor in nisi ac, porttitor iaculis erat. PhasellusThe clock shows 9:47. How many minutes until 11? Answer briefly.', 'The clock shows 9:47. How many minutes until 11?', 29, 0.10344827586206896]\"}\n",
      "Skipping experiment...\n",
      "{'algorithm': 'iterative', 'attr_method': 'prob_diff', 'perturb_method': 'nearest', 'target_sal_percentage': 0.1, 'prompt': 'Lorem ipsum dolor sit amet, consectetur adipiscing elit. Donec velit erat, auctor in nisi ac, porttitor iaculis erat. PhasellusThe clock shows 9:47. How many minutes until 11? Answer briefly.', 'original_prompt': 'The clock shows 9:47. How many minutes until 11?', 'prompt_length': 29, 'salient_percentage': 0.10344827586206896, 'ix_str': \"['iterative', 'prob_diff', 'nearest', 0.1, 'Lorem ipsum dolor sit amet, consectetur adipiscing elit. Donec velit erat, auctor in nisi ac, porttitor iaculis erat. PhasellusThe clock shows 9:47. How many minutes until 11? Answer briefly.', 'The clock shows 9:47. How many minutes until 11?', 29, 0.10344827586206896]\"}\n",
      "Skipping experiment...\n",
      "{'algorithm': 'iterative', 'attr_method': 'cosine', 'perturb_method': 'fixed', 'target_sal_percentage': 0.1, 'prompt': 'Lorem ipsum dolor sit amet, consectetur adipiscing elit. Donec velit erat, auctor in nisi ac, porttitor iaculis erat. PhasellusThe clock shows 9:47. How many minutes until 11? Answer briefly.', 'original_prompt': 'The clock shows 9:47. How many minutes until 11?', 'prompt_length': 29, 'salient_percentage': 0.10344827586206896, 'ix_str': \"['iterative', 'cosine', 'fixed', 0.1, 'Lorem ipsum dolor sit amet, consectetur adipiscing elit. Donec velit erat, auctor in nisi ac, porttitor iaculis erat. PhasellusThe clock shows 9:47. How many minutes until 11? Answer briefly.', 'The clock shows 9:47. How many minutes until 11?', 29, 0.10344827586206896]\"}\n",
      "Skipping experiment...\n",
      "{'algorithm': 'iterative', 'attr_method': 'cosine', 'perturb_method': 'nearest', 'target_sal_percentage': 0.1, 'prompt': 'Lorem ipsum dolor sit amet, consectetur adipiscing elit. Donec velit erat, auctor in nisi ac, porttitor iaculis erat. PhasellusThe clock shows 9:47. How many minutes until 11? Answer briefly.', 'original_prompt': 'The clock shows 9:47. How many minutes until 11?', 'prompt_length': 29, 'salient_percentage': 0.10344827586206896, 'ix_str': \"['iterative', 'cosine', 'nearest', 0.1, 'Lorem ipsum dolor sit amet, consectetur adipiscing elit. Donec velit erat, auctor in nisi ac, porttitor iaculis erat. PhasellusThe clock shows 9:47. How many minutes until 11? Answer briefly.', 'The clock shows 9:47. How many minutes until 11?', 29, 0.10344827586206896]\"}\n",
      "Starting experiment...\n"
     ]
    },
    {
     "name": "stderr",
     "output_type": "stream",
     "text": [
      "Sending 5 concurrent requests at a time: 100%|██████████| 6/6 [00:03<00:00,  1.63it/s]\n"
     ]
    },
    {
     "data": {
      "text/html": [
       "<div style=\"font-family: monospace; line-height: 1.5;\"><span style=\"text-decoration: underline; text-decoration-color: #fffdfd; text-decoration-thickness: 4px; text-underline-offset: 3px;\">Lorem</span><span style=\"text-decoration: underline; text-decoration-color: #fffdfd; text-decoration-thickness: 4px; text-underline-offset: 3px;\"> ipsum</span><span style=\"text-decoration: underline; text-decoration-color: #fffdfd; text-decoration-thickness: 4px; text-underline-offset: 3px;\"> dolor</span><span style=\"text-decoration: underline; text-decoration-color: #fffdfd; text-decoration-thickness: 4px; text-underline-offset: 3px;\"> sit</span><span style=\"text-decoration: underline; text-decoration-color: #fffdfd; text-decoration-thickness: 4px; text-underline-offset: 3px;\"> amet,</span><span style=\"text-decoration: underline; text-decoration-color: #fffdfd; text-decoration-thickness: 4px; text-underline-offset: 3px;\"> consectetur</span><span style=\"text-decoration: underline; text-decoration-color: #fffdfd; text-decoration-thickness: 4px; text-underline-offset: 3px;\"> adipiscing</span><span style=\"text-decoration: underline; text-decoration-color: #fffdfd; text-decoration-thickness: 4px; text-underline-offset: 3px;\"> elit.</span><span style=\"text-decoration: underline; text-decoration-color: #fffdfd; text-decoration-thickness: 4px; text-underline-offset: 3px;\"> Donec</span><span style=\"text-decoration: underline; text-decoration-color: #fffdfd; text-decoration-thickness: 4px; text-underline-offset: 3px;\"> velit</span><span style=\"text-decoration: underline; text-decoration-color: #fffdfd; text-decoration-thickness: 4px; text-underline-offset: 3px;\"> erat,</span><span style=\"text-decoration: underline; text-decoration-color: #fffdfd; text-decoration-thickness: 4px; text-underline-offset: 3px;\"> auctor</span><span style=\"text-decoration: underline; text-decoration-color: #fffdfd; text-decoration-thickness: 4px; text-underline-offset: 3px;\"> in</span><span style=\"text-decoration: underline; text-decoration-color: #fffdfd; text-decoration-thickness: 4px; text-underline-offset: 3px;\"> nisi</span><span style=\"text-decoration: underline; text-decoration-color: #fffdfd; text-decoration-thickness: 4px; text-underline-offset: 3px;\"> ac,</span><span style=\"text-decoration: underline; text-decoration-color: #fffdfd; text-decoration-thickness: 4px; text-underline-offset: 3px;\"> porttitor</span><span style=\"text-decoration: underline; text-decoration-color: #fffdfd; text-decoration-thickness: 4px; text-underline-offset: 3px;\"> iaculis</span><span style=\"text-decoration: underline; text-decoration-color: #fffdfd; text-decoration-thickness: 4px; text-underline-offset: 3px;\"> erat.</span><span style=\"text-decoration: underline; text-decoration-color: #fffdfd; text-decoration-thickness: 4px; text-underline-offset: 3px;\"> PhasellusThe</span><span style=\"text-decoration: underline; text-decoration-color: #fffdfd; text-decoration-thickness: 4px; text-underline-offset: 3px;\"> clock</span><span style=\"text-decoration: underline; text-decoration-color: #fffdfd; text-decoration-thickness: 4px; text-underline-offset: 3px;\"> shows</span><span style=\"text-decoration: underline; text-decoration-color: #ff7979; text-decoration-thickness: 4px; text-underline-offset: 3px;\"> 9:47.</span><span style=\"text-decoration: underline; text-decoration-color: #fffdfd; text-decoration-thickness: 4px; text-underline-offset: 3px;\"> How</span><span style=\"text-decoration: underline; text-decoration-color: #fffdfd; text-decoration-thickness: 4px; text-underline-offset: 3px;\"> many</span><span style=\"text-decoration: underline; text-decoration-color: #ffe5e5; text-decoration-thickness: 4px; text-underline-offset: 3px;\"> minutes</span><span style=\"text-decoration: underline; text-decoration-color: #fffdfd; text-decoration-thickness: 4px; text-underline-offset: 3px;\"> until</span><span style=\"text-decoration: underline; text-decoration-color: #ffd9d9; text-decoration-thickness: 4px; text-underline-offset: 3px;\"> 11?</span><span style=\"text-decoration: underline; text-decoration-color: #fffdfd; text-decoration-thickness: 4px; text-underline-offset: 3px;\"> Answer</span><span style=\"text-decoration: underline; text-decoration-color: #fff5f5; text-decoration-thickness: 4px; text-underline-offset: 3px;\"> briefly.</span> -> There are 73 minutes until 11:00.</div>"
      ],
      "text/plain": [
       "<IPython.core.display.HTML object>"
      ]
     },
     "metadata": {},
     "output_type": "display_data"
    },
    {
     "name": "stdout",
     "output_type": "stream",
     "text": [
      "{'algorithm': 'hierarchical', 'attr_method': 'prob_diff', 'perturb_method': 'fixed', 'target_sal_percentage': 0.1, 'prompt': 'Lorem ipsum dolor sit amet, consectetur adipiscing elit. Donec velit erat, auctor in nisi ac, porttitor iaculis erat. PhasellusThe clock shows 9:47. How many minutes until 11? Answer briefly.', 'original_prompt': 'The clock shows 9:47. How many minutes until 11?', 'prompt_length': 29, 'salient_percentage': 0.10344827586206896, 'ix_str': \"['hierarchical', 'prob_diff', 'fixed', 0.1, 'Lorem ipsum dolor sit amet, consectetur adipiscing elit. Donec velit erat, auctor in nisi ac, porttitor iaculis erat. PhasellusThe clock shows 9:47. How many minutes until 11? Answer briefly.', 'The clock shows 9:47. How many minutes until 11?', 29, 0.10344827586206896]\"}\n",
      "Starting experiment...\n"
     ]
    },
    {
     "name": "stderr",
     "output_type": "stream",
     "text": [
      "Sending 5 concurrent requests at a time: 100%|██████████| 2/2 [00:03<00:00,  1.97s/it]\n",
      "Sending 5 concurrent requests at a time:   0%|          | 0/2 [00:00<?, ?it/s]"
     ]
    }
   ],
   "source": [
    "logger = ExperimentLogger()\n",
    "\n",
    "saliency_percentages = [0.5, 0.1, 0.01]\n",
    "algorithms = ['iterative', 'hierarchical']\n",
    "attr_methods = ['prob_diff', 'cosine']\n",
    "perturb_methods = ['fixed', 'nearest']\n",
    "\n",
    "if not os.path.exists(\"pizza_baseline.csv\"):\n",
    "    results_df = pd.DataFrame(columns=[\"ix_str\", \"prompt\", \"original_prompt\", \"algorithm\", \"attr_method\", \"perturb_method\", \"target_sal_percentage\", \"prompt_length\", \"salient_percentage\", \"api_calls\", \"duration\", \"mean_attr\", \"mean_key_attr\", \"correct\"])\n",
    "else:\n",
    "    results_df = pd.read_csv(\"pizza_baseline.csv\")\n",
    "\n",
    "for sample in samples:\n",
    "    for saliency_percentage in saliency_percentages:\n",
    "        for algorithm in algorithms:\n",
    "            for attr_method in attr_methods:\n",
    "                for perturb_method in perturb_methods:\n",
    "                    prompt = sample[\"prompt\"] + brevity_prompt\n",
    "                    key_strs = sample[\"key_strs\"]\n",
    "                    \n",
    "                    prompt_extension = int(max(0, ((1/saliency_percentage) * len(key_strs)) - len(prompt.split(' '))))\n",
    "\n",
    "                    if prompt_extension > 0:\n",
    "                        prompt = ' '.join(extension_text.split(' ')[:prompt_extension]) + prompt\n",
    "\n",
    "                    res = {\n",
    "                        \"algorithm\": algorithm,\n",
    "                        \"attr_method\": attr_method,\n",
    "                        \"perturb_method\": perturb_method,\n",
    "                        \"target_sal_percentage\": saliency_percentage,\n",
    "                        \"prompt\": prompt,\n",
    "                        \"original_prompt\": sample[\"prompt\"],\n",
    "                        \"prompt_length\": len(prompt.split(' ')),\n",
    "                        \"salient_percentage\": len(key_strs) / len(prompt.split(' '))\n",
    "                    }\n",
    "\n",
    "                    ix_str = str([v for v in res.values()])\n",
    "                    res['ix_str'] = ix_str\n",
    "                    \n",
    "                    print(res)\n",
    "                    if ix_str in results_df['ix_str'].values:\n",
    "                        print('Skipping experiment...')\n",
    "                        continue\n",
    "                    print('Starting experiment...')\n",
    "                    perturbation_strategy = FixedPerturbationStrategy(replacement_token=\"\") if perturb_method == 'fixed' else NthNearestPerturbationStrategy(n=-1)\n",
    "\n",
    "                    if algorithm == 'iterative':\n",
    "                        await gpt4_attributor.iterative_perturbation(prompt, logger=logger, attribution_strategies=[attr_method], unit_definition='word', perturbation_strategy=perturbation_strategy)\n",
    "                    else:\n",
    "                        await gpt4_attributor.hierarchical_perturbation(prompt, logger=logger, attribution_strategies=[attr_method], unit_definition='word', perturbation_strategy=perturbation_strategy)\n",
    "\n",
    "                    attr = logger.get_attribution_matrices(exp_id=-1)[0]\n",
    "                    exps = logger.df_experiments[logger.df_experiments[\"exp_id\"] == logger.df_experiments[\"exp_id\"].max()]\n",
    "                    sample_copy = {\n",
    "                        **sample,\n",
    "                        **res,\n",
    "                        \"api_calls\": exps[\"num_llm_calls\"].values[0],\n",
    "                        \"duration\": exps[\"duration\"].values[0]\n",
    "                    }\n",
    "                    sample_copy['key_strs'] = str(key_strs)\n",
    "\n",
    "                    target_col = [c for c in attr.columns if sample[\"answer\"].lower() in c.lower()]\n",
    "                    if target_col:\n",
    "                        target_attr = attr[target_col].T\n",
    "                        mean_attr = target_attr.values.mean()\n",
    "                        key_attr = sum(target_attr[c].values.mean() for key in key_strs for c in target_attr.columns if key in c) / len(key_strs)\n",
    "                        correct = key_attr > (mean_attr - key_attr)\n",
    "                    else:\n",
    "                        mean_attr, key_attr, correct = None, None, None\n",
    "\n",
    "                    sample_copy.update({\"mean_attr\": mean_attr, \"mean_key_attr\": key_attr, \"correct\": correct})\n",
    "                    logger.print_text_total_attribution(exp_id=-1)\n",
    "\n",
    "                    results_df = pd.concat([results_df, pd.DataFrame([sample_copy])], ignore_index=True)\n",
    "                    results_df.to_csv(\"pizza_baseline.csv\", index=False)\n"
   ]
  },
  {
   "cell_type": "code",
   "execution_count": null,
   "metadata": {},
   "outputs": [],
   "source": []
  },
  {
   "cell_type": "code",
   "execution_count": null,
   "metadata": {},
   "outputs": [],
   "source": []
  }
 ],
 "metadata": {
  "kernelspec": {
   "display_name": "venv",
   "language": "python",
   "name": "python3"
  },
  "language_info": {
   "codemirror_mode": {
    "name": "ipython",
    "version": 3
   },
   "file_extension": ".py",
   "mimetype": "text/x-python",
   "name": "python",
   "nbconvert_exporter": "python",
   "pygments_lexer": "ipython3",
   "version": "3.12.4"
  }
 },
 "nbformat": 4,
 "nbformat_minor": 2
}
